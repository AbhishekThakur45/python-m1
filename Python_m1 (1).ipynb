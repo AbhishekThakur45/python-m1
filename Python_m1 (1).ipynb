{
  "nbformat": 4,
  "nbformat_minor": 0,
  "metadata": {
    "colab": {
      "provenance": []
    },
    "kernelspec": {
      "name": "python3",
      "display_name": "Python 3"
    },
    "language_info": {
      "name": "python"
    }
  },
  "cells": [
    {
      "cell_type": "code",
      "execution_count": null,
      "metadata": {
        "id": "VHrgNrY9kbAQ"
      },
      "outputs": [],
      "source": [
        "#Python\n",
        "\n",
        "1. What is Python, and why is it popular ?\n",
        "Ans =  Python is a general purpose high level programming language and its popular\n",
        "Because widely used in the industry.\n",
        "Like as data industry also python has a lot of libraries more than 137000.\n",
        "\n",
        "2.  What is an interpreter in Python?\n",
        "Ans = Interpreter is a computer program that translates python code into a machine code\n",
        "So that computer can understand it.\n",
        "\n",
        "\n",
        " 3. What are pre-defined keywords in Python\n",
        " Ans = None, Break ,While, Assert, Pass, Del .\n",
        "\n",
        "4.Can keywords be used as variable names\n",
        "Ans = NO\n",
        "\n",
        "5.  What is mutability in Python\n",
        "Ans = The ability to change an object’s value after it has been created.\n",
        "\n",
        "6. Why are lists mutable, but tuples are immutable.\n",
        "Ans =\n",
        "\n",
        "                                                                                                                                         7.What is the difference between “==” and “is” operators in Python.\n",
        "Ans= in python == operator compares the values of two objects ,while the is operator compares their identities.\n",
        "\n",
        "\n",
        "\n",
        "  8. What are logical operators in Python\n",
        "Ans = And ,or , not.\n",
        "\n",
        "9. What is type casting in Python\n",
        "Ans= the process of changing  a variable‘s data type to an other data type.\n",
        "\n",
        "10. What is the difference between implicit and explicit type casting\n",
        "Ans = implicit is automatic while explicit is manual.\n",
        "\n",
        "11.What is the purpose of conditional statements in Python\n",
        "Ans = the purpose to control the flow of program by making decision based on certain condition.\n",
        "\n",
        " 12.How does the elif statement work\n",
        "Ans= if statements pair up with elif and else statements to perform a series of checks.\n",
        "\n",
        "\n",
        "13. What is the difference between for and while loops\n",
        "Ans = for loop is used when you know the number of iteration in advance ,\n",
        "While loop is used when you don’t.\n",
        "\n",
        "14.Describe a scenario where a while loop is more suitable than a for loop.\n",
        "Ans = In contrast to a for loop, which is generally used when the number of iterations is known beforehand a while loop is ideal for situations where the number of iterations is not predetermined and depends on some dynamic condition .\n"
      ]
    },
    {
      "cell_type": "markdown",
      "source": [],
      "metadata": {
        "id": "RSw9TXlgltNP"
      }
    }
  ]
}