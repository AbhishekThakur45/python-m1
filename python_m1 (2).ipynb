{
  "nbformat": 4,
  "nbformat_minor": 0,
  "metadata": {
    "colab": {
      "provenance": []
    },
    "kernelspec": {
      "name": "python3",
      "display_name": "Python 3"
    },
    "language_info": {
      "name": "python"
    }
  },
  "cells": [
    {
      "cell_type": "code",
      "execution_count": null,
      "metadata": {
        "id": "n8b-z9VEl3ik"
      },
      "outputs": [],
      "source": []
    },
    {
      "cell_type": "markdown",
      "source": [
        "Name :     Abhishek sikarwar\n",
        "\n",
        "Email :     krishanasikarwar78@gmail.com\n",
        "\n",
        "Assignment Name : python Assignment\n",
        "\n",
        "Drive link :\n",
        "\n",
        "Github link :"
      ],
      "metadata": {
        "id": "0U_oSDIal4U_"
      }
    }
  ]
}